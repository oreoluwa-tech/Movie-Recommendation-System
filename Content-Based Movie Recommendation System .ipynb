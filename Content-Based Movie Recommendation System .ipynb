{
 "cells": [
  {
   "cell_type": "markdown",
   "id": "ebe44371",
   "metadata": {},
   "source": [
    "# Plot Description Based Recommender"
   ]
  },
  {
   "cell_type": "markdown",
   "id": "89dad616",
   "metadata": {},
   "source": [
    "datasets from kaggle https://www.kaggle.com/satpreetmakhija/netflix-movies-and-tv-shows-2021"
   ]
  },
  {
   "cell_type": "code",
   "execution_count": 1,
   "id": "b937587c",
   "metadata": {},
   "outputs": [],
   "source": [
    "import pandas as pd\n",
    "df = pd.read_csv('netflixData.csv')"
   ]
  },
  {
   "cell_type": "code",
   "execution_count": 4,
   "id": "afb2bc4a",
   "metadata": {},
   "outputs": [],
   "source": [
    "#print(df)"
   ]
  },
  {
   "cell_type": "code",
   "execution_count": 3,
   "id": "15553244",
   "metadata": {},
   "outputs": [
    {
     "name": "stdout",
     "output_type": "stream",
     "text": [
      "Index(['Show Id', 'Title', 'Description', 'Director', 'Genres', 'Cast',\n",
      "       'Production Country', 'Release Date', 'Rating', 'Duration',\n",
      "       'Imdb Score', 'Content Type', 'Date Added'],\n",
      "      dtype='object')\n"
     ]
    }
   ],
   "source": [
    "print(df.columns)"
   ]
  },
  {
   "cell_type": "code",
   "execution_count": 5,
   "id": "81db8cf8",
   "metadata": {},
   "outputs": [],
   "source": [
    "df = df[['Title','Description']]"
   ]
  },
  {
   "cell_type": "code",
   "execution_count": 7,
   "id": "50ab4d69",
   "metadata": {},
   "outputs": [
    {
     "data": {
      "text/html": [
       "<div>\n",
       "<style scoped>\n",
       "    .dataframe tbody tr th:only-of-type {\n",
       "        vertical-align: middle;\n",
       "    }\n",
       "\n",
       "    .dataframe tbody tr th {\n",
       "        vertical-align: top;\n",
       "    }\n",
       "\n",
       "    .dataframe thead th {\n",
       "        text-align: right;\n",
       "    }\n",
       "</style>\n",
       "<table border=\"1\" class=\"dataframe\">\n",
       "  <thead>\n",
       "    <tr style=\"text-align: right;\">\n",
       "      <th></th>\n",
       "      <th>Title</th>\n",
       "      <th>Description</th>\n",
       "    </tr>\n",
       "  </thead>\n",
       "  <tbody>\n",
       "    <tr>\n",
       "      <th>0</th>\n",
       "      <td>(Un)Well</td>\n",
       "      <td>This docuseries takes a deep dive into the luc...</td>\n",
       "    </tr>\n",
       "    <tr>\n",
       "      <th>1</th>\n",
       "      <td>#Alive</td>\n",
       "      <td>As a grisly virus rampages a city, a lone man ...</td>\n",
       "    </tr>\n",
       "    <tr>\n",
       "      <th>2</th>\n",
       "      <td>#AnneFrank - Parallel Stories</td>\n",
       "      <td>Through her diary, Anne Frank's story is retol...</td>\n",
       "    </tr>\n",
       "    <tr>\n",
       "      <th>3</th>\n",
       "      <td>#blackAF</td>\n",
       "      <td>Kenya Barris and his family navigate relations...</td>\n",
       "    </tr>\n",
       "    <tr>\n",
       "      <th>4</th>\n",
       "      <td>#cats_the_mewvie</td>\n",
       "      <td>This pawesome documentary explores how our fel...</td>\n",
       "    </tr>\n",
       "  </tbody>\n",
       "</table>\n",
       "</div>"
      ],
      "text/plain": [
       "                           Title  \\\n",
       "0                       (Un)Well   \n",
       "1                         #Alive   \n",
       "2  #AnneFrank - Parallel Stories   \n",
       "3                       #blackAF   \n",
       "4               #cats_the_mewvie   \n",
       "\n",
       "                                         Description  \n",
       "0  This docuseries takes a deep dive into the luc...  \n",
       "1  As a grisly virus rampages a city, a lone man ...  \n",
       "2  Through her diary, Anne Frank's story is retol...  \n",
       "3  Kenya Barris and his family navigate relations...  \n",
       "4  This pawesome documentary explores how our fel...  "
      ]
     },
     "execution_count": 7,
     "metadata": {},
     "output_type": "execute_result"
    }
   ],
   "source": [
    "df.head()"
   ]
  },
  {
   "cell_type": "code",
   "execution_count": 8,
   "id": "6e278911",
   "metadata": {},
   "outputs": [],
   "source": [
    "df.dropna(inplace=True)"
   ]
  },
  {
   "cell_type": "markdown",
   "id": "04f85aa5",
   "metadata": {},
   "source": [
    "To  transform the description column in the vector form so that we can compute similarity"
   ]
  },
  {
   "cell_type": "code",
   "execution_count": 11,
   "id": "d7b062a4",
   "metadata": {},
   "outputs": [],
   "source": [
    "from sklearn.feature_extraction.text import TfidfVectorizer"
   ]
  },
  {
   "cell_type": "code",
   "execution_count": 12,
   "id": "d56e3695",
   "metadata": {},
   "outputs": [],
   "source": [
    "tf = TfidfVectorizer(analyzer='word', ngram_range=(1, 3), min_df=0, stop_words='english')"
   ]
  },
  {
   "cell_type": "code",
   "execution_count": 13,
   "id": "11834ca8",
   "metadata": {},
   "outputs": [],
   "source": [
    "matrix=tf.fit_transform(df['Description'])"
   ]
  },
  {
   "cell_type": "code",
   "execution_count": 14,
   "id": "6f1f002c",
   "metadata": {},
   "outputs": [],
   "source": [
    "from sklearn.metrics.pairwise import linear_kernel"
   ]
  },
  {
   "cell_type": "code",
   "execution_count": 15,
   "id": "6271db38",
   "metadata": {},
   "outputs": [],
   "source": [
    "cosine_similarities = linear_kernel(matrix,matrix)"
   ]
  },
  {
   "cell_type": "code",
   "execution_count": 16,
   "id": "9d7e133d",
   "metadata": {},
   "outputs": [],
   "source": [
    "movie_title = df['Title']"
   ]
  },
  {
   "cell_type": "code",
   "execution_count": 17,
   "id": "13f91c87",
   "metadata": {},
   "outputs": [],
   "source": [
    "indices = pd.Series(df.index, index=df['Title'])"
   ]
  },
  {
   "cell_type": "code",
   "execution_count": 21,
   "id": "ff54dd5d",
   "metadata": {},
   "outputs": [],
   "source": [
    "def movie_recommend(Title):\n",
    "    idx = indices[Title]\n",
    "    sim_scores = list(enumerate(cosine_similarities[idx]))\n",
    "    sim_scores = sorted(sim_scores, key=lambda x: x[1], reverse=True)\n",
    "    sim_scores = sim_scores[1:31]\n",
    "    movie_indices = [i[0] for i in sim_scores]\n",
    "    return movie_title.iloc[movie_indices]"
   ]
  },
  {
   "cell_type": "code",
   "execution_count": 23,
   "id": "46723337",
   "metadata": {},
   "outputs": [
    {
     "data": {
      "text/plain": [
       "606           Berlin Syndrome\n",
       "2302        It Comes at Night\n",
       "5647       Varane Avashyamund\n",
       "1058               Code Lyoko\n",
       "5151                 The Rain\n",
       "30                        1BR\n",
       "2908    Main aurr Mrs. Khanna\n",
       "209                   Aerials\n",
       "707                    BLAME!\n",
       "5937                Zaki Chan\n",
       "Name: Title, dtype: object"
      ]
     },
     "execution_count": 23,
     "metadata": {},
     "output_type": "execute_result"
    }
   ],
   "source": [
    "movie_recommend('#Alive').head(10)"
   ]
  },
  {
   "cell_type": "code",
   "execution_count": 24,
   "id": "96cd0754",
   "metadata": {},
   "outputs": [
    {
     "data": {
      "text/plain": [
       "1857                              Going for Gold\n",
       "5936                  Zack and Miri Make a Porno\n",
       "3915                                  Reply 1997\n",
       "3441    Norman Lear: Just Another Version of You\n",
       "2570                           Kocan Kadar Konus\n",
       "3020                                Mean Girls 2\n",
       "3312                                  My Suicide\n",
       "1989                                     Haunted\n",
       "5637                                  Vai Anitta\n",
       "4266              Sinatra: All or Nothing at All\n",
       "Name: Title, dtype: object"
      ]
     },
     "execution_count": 24,
     "metadata": {},
     "output_type": "execute_result"
    }
   ],
   "source": [
    "movie_recommend('Never Have I Ever').head(10)"
   ]
  },
  {
   "cell_type": "code",
   "execution_count": 25,
   "id": "e7d156ea",
   "metadata": {},
   "outputs": [
    {
     "data": {
      "text/plain": [
       "3332                                    Nacho Libre\n",
       "5946                       Zindagi Kitni Haseen Hay\n",
       "532                                 Bangkok Buddies\n",
       "3157                                        Monarca\n",
       "684                                     Bittersweet\n",
       "3383                  Nevenka: Breaking the Silence\n",
       "3983              Rocko's Modern Life: Static Cling\n",
       "4702                                       The Call\n",
       "3358    Naruto Shippuden: The Movie: The Lost Tower\n",
       "752                                 BoJack Horseman\n",
       "Name: Title, dtype: object"
      ]
     },
     "execution_count": 25,
     "metadata": {},
     "output_type": "execute_result"
    }
   ],
   "source": [
    "movie_recommend('Day of Destiny').head(10)"
   ]
  },
  {
   "cell_type": "code",
   "execution_count": 26,
   "id": "a10e7075",
   "metadata": {},
   "outputs": [
    {
     "data": {
      "text/plain": [
       "4848                    The Girl Allergic to Wi-Fi\n",
       "3647                 Patriot Act with Hasan Minhaj\n",
       "3877                                      Real Rob\n",
       "5282                                   The Upshaws\n",
       "2188    I Think You Should Leave with Tim Robinson\n",
       "4768                               The Degenerates\n",
       "3382              Netflix Presents: The Characters\n",
       "4610               The Adventures of Puss in Boots\n",
       "1076                        COMEDIANS of the world\n",
       "2515            Kevin Hart: I'm a Grown Little Man\n",
       "Name: Title, dtype: object"
      ]
     },
     "execution_count": 26,
     "metadata": {},
     "output_type": "execute_result"
    }
   ],
   "source": [
    "movie_recommend('#blackAF').head(10) "
   ]
  },
  {
   "cell_type": "code",
   "execution_count": 27,
   "id": "3b836188",
   "metadata": {},
   "outputs": [
    {
     "data": {
      "text/plain": [
       "1311                       Dil Vil Pyaar Vyaar\n",
       "1909             Growing up and other problems\n",
       "4934                             The Judgement\n",
       "1347    Dolly Parton’s Christmas on the Square\n",
       "4559                                       TAU\n",
       "186                                 About Time\n",
       "283                             All About Love\n",
       "12                              10 jours en or\n",
       "2156                                  Hunterrr\n",
       "3259                           Must Be... Love\n",
       "Name: Title, dtype: object"
      ]
     },
     "execution_count": 27,
     "metadata": {},
     "output_type": "execute_result"
    }
   ],
   "source": [
    "movie_recommend('Kambili: The Whole 30 Yards').head(10)"
   ]
  }
 ],
 "metadata": {
  "kernelspec": {
   "display_name": "Python 3 (ipykernel)",
   "language": "python",
   "name": "python3"
  },
  "language_info": {
   "codemirror_mode": {
    "name": "ipython",
    "version": 3
   },
   "file_extension": ".py",
   "mimetype": "text/x-python",
   "name": "python",
   "nbconvert_exporter": "python",
   "pygments_lexer": "ipython3",
   "version": "3.9.6"
  }
 },
 "nbformat": 4,
 "nbformat_minor": 5
}
